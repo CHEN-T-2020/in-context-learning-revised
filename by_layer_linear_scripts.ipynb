{
 "cells": [
  {
   "cell_type": "code",
   "execution_count": 10,
   "metadata": {},
   "outputs": [],
   "source": [
    "import json \n",
    "import os \n",
    "import subprocess\n",
    "import numpy as np \n",
    "import shutil\n",
    "from munch import Munch\n",
    "import yaml\n",
    "import copy\n",
    "import time"
   ]
  },
  {
   "cell_type": "code",
   "execution_count": 11,
   "metadata": {},
   "outputs": [],
   "source": [
    "src = \"/home/tianqi/in-context-learning-main/models/linear_regression/pretrained_probing\" # training result path\n",
    "\n",
    "config_path = \"/home/tianqi/in-context-learning-main/src/conf/probing/linear_regression_probing_template.yaml\" # config file template path\n",
    "\n",
    "total_layer = 5 # total number of layers\n",
    "with open(config_path, \"r\") as fp:  # we don't Quinfig it to avoid inherits\n",
    "    base_conf = Munch.fromDict(yaml.safe_load(fp))"
   ]
  },
  {
   "cell_type": "code",
   "execution_count": 12,
   "metadata": {},
   "outputs": [
    {
     "name": "stdout",
     "output_type": "stream",
     "text": [
      "Munch({'model': Munch({'family': 'lstm', 'n_embd': 512, 'n_layer': 5, 'n_head': 8, 'n_dims': 20, 'n_positions': 101, 'p_dropout': 0, 'has_p_embedding': False, 'use_first_n_layer': 1}), 'training': Munch({'train_steps': 10001, 'resume_id': 'probing_1', 'task': 'linear_regression', 'data': 'gaussian', 'task_kwargs': Munch({}), 'batch_size': 64, 'learning_rate': 0.0001, 'save_every_steps': 1000, 'keep_every_steps': 100000, 'curriculum': Munch({'dims': Munch({'start': 20, 'end': 20, 'inc': 1, 'interval': 2000}), 'points': Munch({'start': 41, 'end': 41, 'inc': 2, 'interval': 2000})})}), 'out_dir': '../models/by_layer_linear/', 'wandb': Munch({'name': 'linear_regression_probing_1', 'project': 'in-context-training-probtest', 'entity': 'tianqi_chen', 'notes': None, 'log_every_steps': 100})})\n"
     ]
    }
   ],
   "source": [
    "print(base_conf)"
   ]
  },
  {
   "cell_type": "code",
   "execution_count": 13,
   "metadata": {},
   "outputs": [
    {
     "name": "stdout",
     "output_type": "stream",
     "text": [
      "finish create folder for probing_1\n",
      "finish create folder for probing_2\n",
      "finish create folder for probing_3\n",
      "finish create folder for probing_4\n",
      "finish create folder for probing_5\n"
     ]
    }
   ],
   "source": [
    "# create folder for each layer\n",
    "for i in range(1, total_layer + 1):\n",
    "    dst = f\"/home/tianqi/in-context-learning-main/models/by_layer_linear/probing_{i}\"\n",
    "    print(f\"finish create folder for probing_{i}\")\n",
    "    if not os.path.exists(dst):\n",
    "        shutil.copytree(src, dst) "
   ]
  },
  {
   "cell_type": "code",
   "execution_count": 14,
   "metadata": {},
   "outputs": [
    {
     "data": {
      "text/plain": [
       "Munch({'model': Munch({'family': 'lstm', 'n_embd': 512, 'n_layer': 5, 'n_head': 8, 'n_dims': 20, 'n_positions': 101, 'p_dropout': 0, 'has_p_embedding': False, 'use_first_n_layer': 1}), 'training': Munch({'train_steps': 10001, 'resume_id': 'probing_1', 'task': 'linear_regression', 'data': 'gaussian', 'task_kwargs': Munch({}), 'batch_size': 64, 'learning_rate': 0.0001, 'save_every_steps': 1000, 'keep_every_steps': 100000, 'curriculum': Munch({'dims': Munch({'start': 20, 'end': 20, 'inc': 1, 'interval': 2000}), 'points': Munch({'start': 41, 'end': 41, 'inc': 2, 'interval': 2000})})}), 'out_dir': '../models/by_layer_linear/', 'wandb': Munch({'name': 'linear_regression_probing_1', 'project': 'in-context-training-probtest', 'entity': 'tianqi_chen', 'notes': None, 'log_every_steps': 100})})"
      ]
     },
     "execution_count": 14,
     "metadata": {},
     "output_type": "execute_result"
    }
   ],
   "source": [
    "base_conf"
   ]
  },
  {
   "cell_type": "code",
   "execution_count": 15,
   "metadata": {},
   "outputs": [],
   "source": [
    "# generate config files for each layer\n",
    "for i in range(1, total_layer + 1):\n",
    "    probe_i_conf = copy.deepcopy(base_conf)\n",
    "\n",
    "    probe_i_conf['model']['use_first_n_layer'] = i\n",
    "    probe_i_conf['training']['resume_id'] = f'probing_{i}'\n",
    "    # probe_i_conf['training']['data'] = 'skew'\n",
    "    probe_i_conf['wandb']['name'] = f\"linear_regression_probing_lstm_{i}\"\n",
    "\n",
    "    probe_i_conf_path = f\"/home/tianqi/in-context-learning-main/src/conf/probing/linear_regression_probing_{i}.yaml\"\n",
    "    with open(probe_i_conf_path, \"w\") as fp:  # we don't Quinfig it to avoid inherits\n",
    "        #base_conf = Munch.fromDict(yaml.safe_load(fp))\n",
    "        yaml.safe_dump(probe_i_conf, fp)"
   ]
  },
  {
   "cell_type": "code",
   "execution_count": 20,
   "metadata": {},
   "outputs": [
    {
     "name": "stdout",
     "output_type": "stream",
     "text": [
      "submitted for probing 1\n",
      "submitted for probing 2\n"
     ]
    },
    {
     "ename": "KeyboardInterrupt",
     "evalue": "",
     "output_type": "error",
     "traceback": [
      "\u001b[0;31m---------------------------------------------------------------------------\u001b[0m",
      "\u001b[0;31mKeyboardInterrupt\u001b[0m                         Traceback (most recent call last)",
      "Cell \u001b[0;32mIn[20], line 19\u001b[0m\n\u001b[1;32m     17\u001b[0m subprocess\u001b[39m.\u001b[39mPopen(\u001b[39m\"\u001b[39m\u001b[39msbatch --gres=gpu:a6000:1 --time 1-0 tmp.sh\u001b[39m\u001b[39m\"\u001b[39m, shell\u001b[39m=\u001b[39m\u001b[39mTrue\u001b[39;00m, stdout\u001b[39m=\u001b[39msubprocess\u001b[39m.\u001b[39mPIPE)\n\u001b[1;32m     18\u001b[0m \u001b[39mprint\u001b[39m(\u001b[39mf\u001b[39m\u001b[39m\"\u001b[39m\u001b[39msubmitted for probing \u001b[39m\u001b[39m{\u001b[39;00mi\u001b[39m}\u001b[39;00m\u001b[39m\"\u001b[39m)\n\u001b[0;32m---> 19\u001b[0m time\u001b[39m.\u001b[39;49msleep(\u001b[39m60\u001b[39;49m)\n",
      "\u001b[0;31mKeyboardInterrupt\u001b[0m: "
     ]
    }
   ],
   "source": [
    "for i in range(1, total_layer + 1):\n",
    "    with open(\"tmp.sh\", \"w\") as fp:\n",
    "        data = f\"\"\"#!/bin/bash\n",
    "\n",
    "#SBATCH --output=slurm_output/%j.log # Output and error log path\n",
    "\n",
    "source ~/.bashrc\n",
    "source activate /home/tianqi/anaconda3/envs/in-context-learning\n",
    "\n",
    "\"\"\"\n",
    "\n",
    "        data += f\"python train_linear.py --config conf/probing/linear_regression_probing_{i}.yaml\"\n",
    "\n",
    "        fp.write(data)\n",
    "        os.chmod(\"tmp.sh\", 0o0777)\n",
    "    \n",
    "    subprocess.Popen(\"sbatch --gres=gpu:a6000:1 --time 1-0 tmp.sh\", shell=True, stdout=subprocess.PIPE)\n",
    "    print(f\"submitted for probing {i}\")\n",
    "    time.sleep(60)"
   ]
  },
  {
   "cell_type": "code",
   "execution_count": null,
   "metadata": {},
   "outputs": [],
   "source": []
  }
 ],
 "metadata": {
  "kernelspec": {
   "display_name": "Python 3",
   "language": "python",
   "name": "python3"
  },
  "language_info": {
   "codemirror_mode": {
    "name": "ipython",
    "version": 3
   },
   "file_extension": ".py",
   "mimetype": "text/x-python",
   "name": "python",
   "nbconvert_exporter": "python",
   "pygments_lexer": "ipython3",
   "version": "3.8.12"
  },
  "orig_nbformat": 4
 },
 "nbformat": 4,
 "nbformat_minor": 2
}
