{
 "cells": [
  {
   "cell_type": "code",
   "execution_count": 1,
   "metadata": {},
   "outputs": [],
   "source": [
    "import json \n",
    "import os \n",
    "import subprocess\n",
    "import numpy as np \n",
    "import shutil\n",
    "from munch import Munch\n",
    "import yaml\n",
    "import copy\n",
    "import time"
   ]
  },
  {
   "cell_type": "code",
   "execution_count": 5,
   "metadata": {},
   "outputs": [
    {
     "name": "stdout",
     "output_type": "stream",
     "text": [
      "submitted training task\n"
     ]
    }
   ],
   "source": [
    "\n",
    "subprocess.Popen(\"sbatch --gres=gpu:2080:1 --time 8:00:00 job_script.sh\", shell=True, stdout=subprocess.PIPE)\n",
    "print(f\"submitted training task\")"
   ]
  },
  {
   "cell_type": "code",
   "execution_count": null,
   "metadata": {},
   "outputs": [],
   "source": []
  },
  {
   "cell_type": "code",
   "execution_count": 2,
   "metadata": {},
   "outputs": [
    {
     "name": "stdout",
     "output_type": "stream",
     "text": [
      "submitted probing analyse task\n"
     ]
    }
   ],
   "source": [
    "subprocess.Popen(\"sbatch --gres=gpu:2080:1 --time 8:00:00 job_script_corr.sh\", shell=True, stdout=subprocess.PIPE)\n",
    "print(f\"submitted probing analyse task\")"
   ]
  }
 ],
 "metadata": {
  "kernelspec": {
   "display_name": "Python 3",
   "language": "python",
   "name": "python3"
  },
  "language_info": {
   "codemirror_mode": {
    "name": "ipython",
    "version": 3
   },
   "file_extension": ".py",
   "mimetype": "text/x-python",
   "name": "python",
   "nbconvert_exporter": "python",
   "pygments_lexer": "ipython3",
   "version": "3.8.12"
  },
  "orig_nbformat": 4
 },
 "nbformat": 4,
 "nbformat_minor": 2
}
